{
 "cells": [
  {
   "cell_type": "code",
   "execution_count": 1,
   "metadata": {},
   "outputs": [
    {
     "name": "stdout",
     "output_type": "stream",
     "text": [
      "hello world\n"
     ]
    }
   ],
   "source": [
    "print('hello world')"
   ]
  },
  {
   "cell_type": "code",
   "execution_count": 34,
   "metadata": {},
   "outputs": [
    {
     "name": "stdout",
     "output_type": "stream",
     "text": [
      "Original: a=4 b=5\n",
      "Swapped : a=5 b=4\n",
      "Original: a=6 b=7\n",
      "Swapped : a=7 b=6\n"
     ]
    }
   ],
   "source": [
    "# 交换两个变量\n",
    "a = 4\n",
    "b = 5\n",
    "print(\"Original: a=%d b=%d\" % (a, b))\n",
    "temp = a\n",
    "a = b\n",
    "b = temp\n",
    "print(\"Swapped : a=%d b=%d\" % (a, b))\n",
    "\n",
    "a = 6\n",
    "b = 7\n",
    "print(\"Original: a={0} b={1}\".format(a, b))\n",
    "a, b = b, a\n",
    "print(\"Swapped : a={a} b={b}\".format(a=a, b=b))"
   ]
  },
  {
   "cell_type": "code",
   "execution_count": 50,
   "metadata": {},
   "outputs": [
    {
     "name": "stdout",
     "output_type": "stream",
     "text": [
      "---------------------- 1 ----------------------\n",
      "name=Jerry\n",
      "age=30\n",
      "gender=M\n",
      "---------------------- 2 ----------------------\n",
      "name=Jerry\n",
      "age=30\n",
      "gender=M\n",
      "---------------------- 3 ----------------------\n",
      "1 2 [3, 4, 5, 6]\n",
      "1 [2, 3, 4, 5] 6\n",
      "[1, 2, 3, 4] 5 6\n",
      "---------------------- 4 ----------------------\n",
      "(3, 4, 5)\n",
      "3 4 5\n",
      "3 [4, 5]\n",
      "[3, 4] 5\n"
     ]
    }
   ],
   "source": [
    "# 序列解包\n",
    "print('---------------------- 1 ----------------------')\n",
    "student = ['Jerry', 30, 'M']\n",
    "name = student[0]\n",
    "age = student[1]\n",
    "gender = student[2]\n",
    "print(\"name={0}\\nage={1}\\ngender={2}\".format(name, age, gender))\n",
    "\n",
    "print('---------------------- 2 ----------------------')\n",
    "newName, newAge, newGender = student\n",
    "print(\"name={0}\\nage={1}\\ngender={2}\".format(newName, newAge, newGender))\n",
    "\n",
    "print('---------------------- 3 ----------------------')\n",
    "a, b, *c = 1, 2, 3, 4, 5, 6\n",
    "print(a, b, c)\n",
    "a, *b, c = 1, 2, 3, 4, 5, 6\n",
    "print(a, b, c)\n",
    "*a, b, c = 1, 2, 3, 4, 5, 6\n",
    "print(a, b, c)\n",
    "\n",
    "print('---------------------- 4 ----------------------')\n",
    "def testFunc():\n",
    "    return 3, 4, 5\n",
    "a = testFunc()\n",
    "print(a)\n",
    "a, b, c = testFunc()\n",
    "print(a, b, c)\n",
    "a, *b = testFunc()\n",
    "print(a, b)\n",
    "*a, b = testFunc()\n",
    "print(a, b)"
   ]
  },
  {
   "cell_type": "code",
   "execution_count": 53,
   "metadata": {},
   "outputs": [
    {
     "name": "stdout",
     "output_type": "stream",
     "text": [
      "testValue=85  level=B\n",
      "testValue=85  level=B\n",
      "passed\n"
     ]
    }
   ],
   "source": [
    "testValue = 85\n",
    "\n",
    "if testValue > 80 and testValue < 90:\n",
    "    level = 'B'\n",
    "print('testValue=%d  level=%c' % (testValue, level))\n",
    "\n",
    "if 80 < testValue < 90:\n",
    "    level = 'B'\n",
    "print('testValue=%d  level=%c' % (testValue, level))\n",
    "\n",
    "if level in ['A', 'B', 'C']:\n",
    "    print('passed')"
   ]
  },
  {
   "cell_type": "code",
   "execution_count": 62,
   "metadata": {},
   "outputs": [
    {
     "name": "stdout",
     "output_type": "stream",
     "text": [
      "---------------------- 1 ----------------------\n",
      "failed\n",
      "failed\n",
      "---------------------- 2 ----------------------\n",
      "passed\n",
      "passed\n"
     ]
    }
   ],
   "source": [
    "print('---------------------- 1 ----------------------')\n",
    "math,english,chinese=70,55,85\n",
    "if math<60 or english<60 or cheinese<60:\n",
    "    print('failed')\n",
    "if any([math<60, english<60, chinese<60]):\n",
    "    print('failed')\n",
    "    \n",
    "print('---------------------- 2 ----------------------')\n",
    "math,english,chinese=70,61,85\n",
    "if math>60 and english>60 and chinese>60:\n",
    "    print('passed')\n",
    "if all([math>60, english>60, chinese>60]):\n",
    "    print('passed')"
   ]
  },
  {
   "cell_type": "code",
   "execution_count": 66,
   "metadata": {},
   "outputs": [
    {
     "name": "stdout",
     "output_type": "stream",
     "text": [
      "---------------------- 2 ----------------------\n",
      "0 : a\n",
      "1 : b\n",
      "2 : c\n",
      "---------------------- 2 ----------------------\n",
      "0 : a\n",
      "1 : b\n",
      "2 : c\n"
     ]
    }
   ],
   "source": [
    "print('---------------------- 1 ----------------------')\n",
    "li = ['a','b','c']\n",
    "for i in range(len(li)):\n",
    "    print(i, ':', li[i])\n",
    "\n",
    "print('---------------------- 2 ----------------------)\n",
    "for i,item in enumerate(li):\n",
    "    print(i, ':', item)"
   ]
  },
  {
   "cell_type": "code",
   "execution_count": 80,
   "metadata": {},
   "outputs": [
    {
     "name": "stdout",
     "output_type": "stream",
     "text": [
      "---------------------- 1 ----------------------\n",
      "{'a': 20, 'b': 30, 'c': 40}\n",
      "---------------------- 2 ----------------------\n",
      "1 : a\n",
      "2 : b\n",
      "3 : c\n",
      "---------------------- 2 ----------------------\n"
     ]
    },
    {
     "data": {
      "text/plain": [
       "[(1, 'a'), (2, 'b'), (3, 'c')]"
      ]
     },
     "execution_count": 80,
     "metadata": {},
     "output_type": "execute_result"
    }
   ],
   "source": [
    "print('---------------------- 1 ----------------------')\n",
    "name = ['a', 'b', 'c']\n",
    "age = [20, 30, 40]\n",
    "li = dict(zip(name, age))\n",
    "print(li)\n",
    "\n",
    "print('---------------------- 2 ----------------------')\n",
    "for key,value in enumerate(li, start=1):\n",
    "    print(key, ':', value)\n",
    "\n",
    "print('---------------------- 2 ----------------------')\n",
    "list(enumerate(li, start=1))"
   ]
  },
  {
   "cell_type": "code",
   "execution_count": 101,
   "metadata": {},
   "outputs": [
    {
     "name": "stdout",
     "output_type": "stream",
     "text": [
      "---------------------- 1 ----------------------\n",
      "<filter object at 0x0000000004C70080>\n",
      "[1, 2, 'a', 3, 2.5]\n",
      "1\n",
      "2\n",
      "3\n"
     ]
    }
   ],
   "source": [
    "print('---------------------- 1 ----------------------')\n",
    "testList = [1, 2, 'a', 3, 2.5]\n",
    "res = filter(lambda x: isinstance(x, int), testList)\n",
    "print(res)\n",
    "print(testList)\n",
    "for value in res:\n",
    "    print(value)"
   ]
  },
  {
   "cell_type": "code",
   "execution_count": null,
   "metadata": {},
   "outputs": [],
   "source": []
  },
  {
   "cell_type": "code",
   "execution_count": null,
   "metadata": {},
   "outputs": [],
   "source": []
  }
 ],
 "metadata": {
  "kernelspec": {
   "display_name": "Python 3",
   "language": "python",
   "name": "python3"
  },
  "language_info": {
   "codemirror_mode": {
    "name": "ipython",
    "version": 3
   },
   "file_extension": ".py",
   "mimetype": "text/x-python",
   "name": "python",
   "nbconvert_exporter": "python",
   "pygments_lexer": "ipython3",
   "version": "3.7.1"
  }
 },
 "nbformat": 4,
 "nbformat_minor": 2
}
